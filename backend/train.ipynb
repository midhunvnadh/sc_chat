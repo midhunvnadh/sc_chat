{
  "nbformat": 4,
  "nbformat_minor": 0,
  "metadata": {
    "colab": {
      "provenance": []
    },
    "kernelspec": {
      "name": "python3",
      "display_name": "Python 3"
    },
    "language_info": {
      "name": "python"
    }
  },
  "cells": [
    {
      "cell_type": "code",
      "execution_count": null,
      "metadata": {
        "id": "BOOHgQvp0adc"
      },
      "outputs": [],
      "source": [
        "import tensorflow as tf\n",
        "from tensorflow.keras.preprocessing.image import ImageDataGenerator\n",
        "from tensorflow.keras.models import Sequential\n",
        "from tensorflow.keras.layers import Conv2D, MaxPooling2D\n",
        "from tensorflow.keras.layers import Activation, Dropout, Flatten, Dense\n",
        "from tensorflow.keras.layers import BatchNormalization\n",
        "from tensorflow.keras.optimizers import Adam\n",
        "import os"
      ]
    },
    {
      "cell_type": "code",
      "source": [
        "# Defining the directory\n",
        "data_dir = 'dataset/sd/dataset'\n",
        "\n",
        "# Set the width and height for image resizing\n",
        "img_width, img_height = 300, 225\n",
        "\n",
        "# Define the batch size for training or processing images\n",
        "batch_size = 20\n",
        "\n",
        "# Calculate the number of classes by counting subdirectories in the data directory\n",
        "num_classes = len(os.listdir(data_dir))"
      ],
      "metadata": {
        "id": "cSNv7IlT0fCQ"
      },
      "execution_count": null,
      "outputs": []
    },
    {
      "cell_type": "code",
      "source": [
        "datagen = ImageDataGenerator(\n",
        "    # Rescale pixel values to a range of [0, 1]\n",
        "    rescale=1.0 / 255.0,\n",
        "\n",
        "    # Randomly rotate images by up to 20 degrees\n",
        "    rotation_range=20,\n",
        "\n",
        "    # Randomly shift the width of images by up to 20% of the image width\n",
        "    width_shift_range=0.2,\n",
        "\n",
        "    # Randomly shift the height of images by up to 20% of the image height\n",
        "    height_shift_range=0.2,\n",
        "\n",
        "    # Apply shearing transformation with a maximum shear angle of 20 degrees\n",
        "    shear_range=0.2,\n",
        "\n",
        "    # Apply random zoom to images, ranging from 80% to 120% of original size\n",
        "    zoom_range=0.2,\n",
        "\n",
        "    # Randomly flip images horizontally\n",
        "    horizontal_flip=True,\n",
        "\n",
        "    # Fill in missing pixels after transformations with the nearest available pixel\n",
        "    fill_mode='nearest'\n",
        ")"
      ],
      "metadata": {
        "id": "3Yr_aOko0kWR"
      },
      "execution_count": null,
      "outputs": []
    },
    {
      "cell_type": "code",
      "source": [
        "generator = datagen.flow_from_directory(\n",
        "    data_dir,\n",
        "    # Target size for resizing images to (img_width, img_height)\n",
        "    target_size=(img_width, img_height),\n",
        "\n",
        "    # Batch size for generating batches of augmented images\n",
        "    batch_size=batch_size,\n",
        "\n",
        "    # Specify the class mode as 'categorical' for multi-class classification\n",
        "    class_mode='categorical'\n",
        ")"
      ],
      "metadata": {
        "id": "XX7-v9Y70olD"
      },
      "execution_count": null,
      "outputs": []
    },
    {
      "cell_type": "code",
      "source": [
        "# Create an empty Sequential model\n",
        "model = Sequential()"
      ],
      "metadata": {
        "id": "oTMSPqbc0vNK"
      },
      "execution_count": null,
      "outputs": []
    },
    {
      "cell_type": "code",
      "source": [
        "# Convolutional Layer 1\n",
        "model.add(Conv2D(32, (3, 3), padding='same', input_shape=(img_width, img_height, 3)))\n",
        "model.add(BatchNormalization())\n",
        "model.add(Activation('relu'))\n",
        "model.add(MaxPooling2D(pool_size=(2, 2)))\n",
        "\n",
        "# Convolutional Layer 2\n",
        "model.add(Conv2D(64, (3, 3), padding='same', input_shape=(img_width, img_height, 3)))\n",
        "model.add(BatchNormalization())\n",
        "model.add(Activation('relu'))\n",
        "model.add(MaxPooling2D(pool_size=(2, 2)))\n",
        "\n",
        "# Convolutional Layer 3\n",
        "model.add(Conv2D(96, (3, 3), padding='same', input_shape=(img_width, img_height, 3)))\n",
        "model.add(BatchNormalization())\n",
        "model.add(Activation('relu'))\n",
        "model.add(MaxPooling2D(pool_size=(2, 2)))\n",
        "\n",
        "# Flatten the output before fully connected layers\n",
        "model.add(Flatten())\n",
        "\n",
        "# Fully Connected Layer 1\n",
        "model.add(Dense(128))\n",
        "model.add(BatchNormalization())\n",
        "model.add(Activation('relu'))\n",
        "model.add(Dropout(0.26))  # Adjusted dropout rate\n",
        "\n",
        "# Output Layer\n",
        "model.add(Dense(num_classes))\n",
        "model.add(Activation('softmax'))"
      ],
      "metadata": {
        "id": "jbQgl4S10yYy"
      },
      "execution_count": null,
      "outputs": []
    },
    {
      "cell_type": "code",
      "source": [
        "model.compile(\n",
        "    # Specified the loss function for categorical classification\n",
        "    loss='categorical_crossentropy',\n",
        "\n",
        "    # Defined the optimizer with a learning rate of 0.0001\n",
        "    optimizer=Adam(lr=0.0001),\n",
        "\n",
        "    # Defined the evaluation metric as accuracy\n",
        "    metrics=['accuracy']\n",
        ")"
      ],
      "metadata": {
        "id": "aYgHqsKA08tV"
      },
      "execution_count": null,
      "outputs": []
    },
    {
      "cell_type": "code",
      "source": [
        "model.fit(\n",
        "    generator,\n",
        "    # Number of steps per epoch, calculated based on the dataset size and batch size\n",
        "    steps_per_epoch=generator.samples // batch_size,\n",
        "\n",
        "    # Number of training epochs\n",
        "    epochs=20\n",
        ")"
      ],
      "metadata": {
        "id": "2SO82icR0_SF"
      },
      "execution_count": null,
      "outputs": []
    },
    {
      "cell_type": "code",
      "source": [
        "# Saved the trained neural network model to a file\n",
        "\n",
        "model.save('skin_disease_classifier.h5')"
      ],
      "metadata": {
        "id": "a9uMgW0b1CDG"
      },
      "execution_count": null,
      "outputs": []
    }
  ]
}